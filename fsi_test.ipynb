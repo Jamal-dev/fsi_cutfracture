{
 "cells": [
  {
   "cell_type": "code",
   "execution_count": 1,
   "id": "6071398a",
   "metadata": {},
   "outputs": [
    {
     "data": {
      "application/vnd.jupyter.widget-view+json": {
       "model_id": "0306400080bc426b941aecae4dd97a3b",
       "version_major": 2,
       "version_minor": 0
      },
      "text/plain": [
       "WebGuiWidget(layout=Layout(height='500px', width='100%'), value={'gui_settings': {}, 'ngsolve_version': '6.2.2…"
      ]
     },
     "metadata": {},
     "output_type": "display_data"
    },
    {
     "data": {
      "text/plain": [
       "BaseWebGuiScene"
      ]
     },
     "execution_count": 1,
     "metadata": {},
     "output_type": "execute_result"
    }
   ],
   "source": [
    "from netgen.geom2d import SplineGeometry\n",
    "from ngsolve import *\n",
    "from netgen.geom2d import CSG2d, Circle, Rectangle\n",
    "from matplotlib import pyplot as plt\n",
    "from ngsolve.webgui import Draw\n",
    "\n",
    "# Create a 2D geometry for the mesh\n",
    "def create_geometry(W,H,w_solid,h_solid,pos_x_solid,pos_y_solid,order,maxh=0.05):\n",
    "    geo = CSG2d()\n",
    "    fluid = Rectangle(pmin=(0,0), pmax=(W,H), mat=\"fluid\", left=\"inlet\", top=\"wall\", bottom=\"wall\", right=\"outlet\")\n",
    "    solid = Rectangle(pmin=(pos_x_solid,pos_y_solid), pmax=(pos_x_solid+w_solid,pos_y_solid+h_solid), mat=\"solid\", left=\"solid_left\", top=\"solid_top\", bottom=\"solid_bottom\", right=\"solid_right\")\n",
    "    domain_fluid = fluid - solid\n",
    "    domain_solid = solid\n",
    "    geo.Add(domain_fluid)\n",
    "    geo.Add(domain_solid)\n",
    "    # generate mesh\n",
    "    mesh = Mesh(geo.GenerateMesh(maxh=maxh))\n",
    "    mesh.Curve(order)\n",
    "    \n",
    "    return mesh\n",
    "\n",
    "# Parameters\n",
    "W = 4.0  # Width of the fluid domain\n",
    "H = 1.0  # Height of the fluid domain\n",
    "w_solid = 0.1  # Width of the solid block\n",
    "h_solid = 0.5  # Height of the solid block\n",
    "pos_x_solid = 1.8  # X position of the solid block\n",
    "pos_y_solid = 0.0  # Y position of the solid block\n",
    "order = 3  # Polynomial order for the mesh\n",
    "maxh = 0.05  # Maximum mesh size\n",
    "tip_point_left_x = pos_x_solid - w_solid/2.0\n",
    "tip_point_left_y = pos_y_solid + h_solid\n",
    "tip_point_right_x = pos_x_solid + w_solid/2.0\n",
    "tip_point_right_y = pos_y_solid + h_solid\n",
    "# Create the mesh\n",
    "mesh = create_geometry(W, H, w_solid, h_solid, pos_x_solid, pos_y_solid, order, maxh)\n",
    "# Visualize the mesh\n",
    "Draw(mesh)"
   ]
  },
  {
   "cell_type": "markdown",
   "id": "61b81110",
   "metadata": {},
   "source": [
    "# Simulation parameters"
   ]
  },
  {
   "cell_type": "code",
   "execution_count": 2,
   "id": "943b6c71",
   "metadata": {},
   "outputs": [],
   "source": [
    "# import dataclass\n",
    "from dataclasses import dataclass\n",
    "# (rhos, nus, mus, rhof, nuf, U) = (1e4, 0.4, 0.5*1e6, 1e3, 1e-3, 1)\n",
    "@dataclass\n",
    "class MateralProperties:\n",
    "    rho_s: float = 1e4\n",
    "    # poisson ratio of solid\n",
    "    nu_s: float = 0.4\n",
    "    mu_s: float = 0.5 * 1e6\n",
    "    rho_f: float = 1e3\n",
    "    # kinematic viscosity\n",
    "    nu_f: float = 1e-3\n",
    "    # dynamic viscosity\n",
    "    mu_f: float = nu_f * rho_f\n",
    "    U: float = 1.0\n",
    "    lambda_s: float = 2 * mu_s * nu_s / (1 - 2 * nu_s)\n",
    "\n",
    "@dataclass\n",
    "class SimulationParameters:\n",
    "    dt: float = 0.004\n",
    "    t_end: float = 4\n",
    "    theta: float = 0.5\n",
    "\n",
    "par = Parameter(0)\n",
    "uinflow = par * CoefficientFunction( (4 * MateralProperties.U * 1.5 * y * (H-y)/(H*H), 0) )"
   ]
  },
  {
   "cell_type": "code",
   "execution_count": 3,
   "id": "e98ac10c",
   "metadata": {},
   "outputs": [],
   "source": [
    "V = VectorH1( mesh, order = order, dirichlet = \"inlet|wall\")\n",
    "Q = H1( mesh, order = order - 1, definedon = \"fluid\" )\n",
    "D = VectorH1( mesh, order = order, dirichlet = \"inlet|wall|outlet\" )\n",
    "\n",
    "X = V*Q*D\n",
    "Y = V*Q\n",
    "(u, p, d), (v, q, w) = X.TnT()\n",
    "\n",
    "#Gridfunctions\n",
    "gfu    = GridFunction(X)\n",
    "gfuold = GridFunction(X)\n",
    "    \n",
    "#Extract variables\n",
    "velocity, pressure, deformation = gfu.components\n",
    "velocityold, pressureold, deformationold = gfuold.components\n",
    "\n",
    "graduold = Grad(velocityold)\n",
    "graddold = Grad(deformationold)\n",
    "\n",
    "I = Id(mesh.dim)\n",
    "\n",
    "def CalcStresses(A):\n",
    "    F = A + I\n",
    "    C = F.trans*F\n",
    "    E = 0.5*(C - I)\n",
    "    J = Det(F)\n",
    "    Finv = Inv(F)\n",
    "    return (F, C, E, J, Finv)\n",
    "\n",
    "(F,C,E,J,Finv) = CalcStresses(Grad(d))\n",
    "(Fold,Cold,Eold,Jold,Finvold) = CalcStresses(graddold)\n",
    "\n",
    "def stress_solid(E):\n",
    "    S = 2 * MateralProperties.mu_s * E + MateralProperties.lambda_s * Trace(E) * I\n",
    "    return S"
   ]
  },
  {
   "cell_type": "code",
   "execution_count": 4,
   "id": "5808311e",
   "metadata": {},
   "outputs": [
    {
     "name": "stderr",
     "output_type": "stream",
     "text": [
      "used dof inconsistency\n",
      "(silence this warning by setting BilinearForm(...check_unused=False) )\n"
     ]
    }
   ],
   "source": [
    "#For Stokes problem for the inital solution\n",
    "stokes = BilinearForm(Y, symmetric=True)\n",
    "stokes += ( 2*MateralProperties.mu_f*InnerProduct(Sym(Grad(u)),Sym(Grad(v)))\n",
    "            - div(u)*q - div(v)*p - 1e-8*p*q ) * dx('fluid')\n",
    "stokes.Assemble()\n",
    "\n",
    "# rhs_stokes = u.vec.CreateVector()\n",
    "# uinflow    = CoefficientFunction( (4*y*(H-y)/H**2, 0) )\n",
    "\n",
    "# tmp = GridFunction(Y)\n",
    "# tmp.components[0].Set(uinflow, definedon=mesh.Boundaries('inlet'))\n",
    "# rhs_stokes.data = stokes.mat * tmp.vec\n",
    "\n",
    "# freedofs = Y.FreeDofs() & ~Y.GetDofs(mesh.Materials('solid'))\n",
    "# stokes_inv = stokes.mat.Inverse(freedofs)\n",
    "# tmp.vec.data -= stokes_inv * rhs_stokes\n",
    "\n",
    "# gfu.components[0].vec.data = tmp.components[0].vec\n",
    "# gfu.components[1].vec.data = tmp.components[1].vec\n",
    "\n",
    "truecompile=False"
   ]
  },
  {
   "cell_type": "code",
   "execution_count": 5,
   "id": "01b8d703",
   "metadata": {},
   "outputs": [],
   "source": [
    "\n",
    "\n",
    "theta = SimulationParameters.theta\n",
    "theta_n = 1 - theta\n",
    "a = BilinearForm( X, symmetric = False, check_unused=False )\n",
    "########################### Fluid: Navier-Stokes ##########################\n",
    "# M du/dt\n",
    "a += ( MateralProperties.rho_f*InnerProduct(J*(u-velocityold), v) ).Compile(truecompile,wait=True)*dx(\"fluid\")\n",
    "# Laplace\n",
    "a += ( SimulationParameters.dt * theta *   MateralProperties.mu_f*InnerProduct(J*Grad(u)*Finv, Grad(v)*Finv)\\\n",
    "      +SimulationParameters.dt * theta_n * MateralProperties.mu_f*InnerProduct(Jold*Sym(graduold*Finvold), (Grad(v)*Finvold)) ).Compile(truecompile,wait=True)*dx(\"fluid\")\n",
    "# Convection\n",
    "a += SimulationParameters.dt * ( \n",
    "    theta * MateralProperties.rho_f * InnerProduct(J*(Grad(u)*Finv)*u, v)+\n",
    "    theta_n * MateralProperties.rho_f * InnerProduct(Jold*(graduold*Finvold)*velocityold, v) ).Compile(truecompile,wait=True)*dx(\"fluid\")\n",
    "# mesh velocity\n",
    "a += ( - MateralProperties.rho_f * InnerProduct((J*Grad(u)*Finv)*(d-deformationold), v) ).Compile(truecompile,wait=True)*dx(\"fluid\")\n",
    "# Pressure/Constraint\n",
    "a +=  -SimulationParameters.dt * J*(Trace(Grad(v)*Finv)*p).Compile(truecompile,wait=True)*dx(\"fluid\")\n",
    "a +=   J*  (Trace(Grad(u)*Finv)*q).Compile(truecompile,wait=True)*dx(\"fluid\")\n",
    "########################### Solid: elastic wave ##########################\n",
    "# M du/dt\n",
    "a += ( MateralProperties.rho_s*InnerProduct(u-velocityold, v) ).Compile(truecompile,wait=True)*dx(\"solid\")\n",
    "# Material law (there should not be 2 here)\n",
    "a += (SimulationParameters.dt * \n",
    "            ( theta   * InnerProduct(2*F*   stress_solid(E)   , Grad(v)) + \n",
    "              theta_n * InnerProduct(2*Fold*stress_solid(Eold), Grad(v)) )).Compile(truecompile,wait=True)*dx(\"solid\")\n",
    "#dd/dt = u\n",
    "a += (-SimulationParameters.dt *\n",
    "            (theta * InnerProduct(u,w) +\n",
    "             theta_n * InnerProduct(velocityold,w) )).Compile(truecompile,wait=True)*dx(\"solid\")\n",
    "a += ( InnerProduct( (d-deformationold), w)).Compile(truecompile,wait=True)*dx(\"solid\")\n",
    "########################## Defextension ##########################\n",
    "factor = 1e-20*MateralProperties.mu_s\n",
    "# minimum of two distance values\n",
    "def minCF(a,b) : return IfPos(a-b, b, a)\n",
    "Vdist = H1(mesh, order=2)\n",
    "gfdist = GridFunction(Vdist)\n",
    "gfdist.Set( minCF( (x-tip_point_left_x)*(x-tip_point_left_x)+(y-tip_point_left_y)*(y-tip_point_left_y), \n",
    "                   (x-tip_point_right_x)*(x-tip_point_right_x)+(y-tip_point_right_y)*(y-tip_point_right_y) ) )\n",
    "\n",
    "def NeoHookExt (C, mu=1,lam=1):\n",
    "    return 0.5 * mu * (Trace(C-I) + 2*mu/lam * Det(C)**(-lam/2/mu) - 1)\n",
    "a += Variation( (factor*(1/sqrt(gfdist*gfdist+1e-12)) * NeoHookExt(C)).Compile(truecompile,wait=True)*dx(\"fluid\"))"
   ]
  },
  {
   "cell_type": "code",
   "execution_count": 6,
   "id": "69b236f4",
   "metadata": {},
   "outputs": [
    {
     "data": {
      "application/vnd.jupyter.widget-view+json": {
       "model_id": "ec585e05fc90483ba83702c58059aad3",
       "version_major": 2,
       "version_minor": 0
      },
      "text/plain": [
       "WebGuiWidget(layout=Layout(height='500px', width='100%'), value={'gui_settings': {}, 'ngsolve_version': '6.2.2…"
      ]
     },
     "metadata": {},
     "output_type": "display_data"
    },
    {
     "data": {
      "application/vnd.jupyter.widget-view+json": {
       "model_id": "242e8e54138647b2b542394627cbf4db",
       "version_major": 2,
       "version_minor": 0
      },
      "text/plain": [
       "WebGuiWidget(layout=Layout(height='500px', width='100%'), value={'gui_settings': {}, 'ngsolve_version': '6.2.2…"
      ]
     },
     "metadata": {},
     "output_type": "display_data"
    },
    {
     "data": {
      "application/vnd.jupyter.widget-view+json": {
       "model_id": "a13e8226a47342c890ac24187fca922e",
       "version_major": 2,
       "version_minor": 0
      },
      "text/plain": [
       "WebGuiWidget(layout=Layout(height='500px', width='100%'), value={'gui_settings': {}, 'ngsolve_version': '6.2.2…"
      ]
     },
     "metadata": {},
     "output_type": "display_data"
    }
   ],
   "source": [
    "bts = Y.FreeDofs() & ~Y.GetDofs(mesh.Materials(\"solid\"))\n",
    "bts &= ~Y.GetDofs(mesh.Boundaries(\"wall|inlet|solid_left|solid_top|solid_bottom|solid_right\"))\n",
    "bts[V.ndof:] = True\n",
    "invstoke = stokes.mat.Inverse(bts)\n",
    "\n",
    "# create a temperary function velocity+pressure for the fluid domain\n",
    "tmp = GridFunction(Y)\n",
    "# crate a empty vector\n",
    "rstokes = tmp.vec.CreateVector()\n",
    "\n",
    "# directly start with Stokes solution instead of increasing inflow\n",
    "start_with_stokes = True\n",
    "\n",
    "if start_with_stokes:\n",
    "    # rstokes = A * guess\n",
    "    # correction = invA * rstokes\n",
    "    # u = guess - correction\n",
    "\n",
    "    par.Set(1)\n",
    "    # setting the nodes of inlet to the inflow\n",
    "    tmp.components[0].Set( uinflow, definedon=mesh.Boundaries(\"inlet\") )\n",
    "    # calculating the residual r=A* u_0\n",
    "    rstokes.data = stokes.mat*tmp.vec\n",
    "    # correction step of solving a linear system u = u_0 - A^{-1}*r\n",
    "    tmp.vec.data -= invstoke*rstokes\n",
    "    gfu.components[0].vec.data = tmp.components[0].vec\n",
    "    gfu.components[1].vec.data = tmp.components[1].vec\n",
    "    gfuold.vec.data = gfu.vec\n",
    "    \n",
    "w = gfu.vec.CreateVector()\n",
    "r = GridFunction(X)\n",
    "    \n",
    "disp_x = []\n",
    "disp_y = []\n",
    "\n",
    "def CalcForces():\n",
    "    dmidx = gfu.components[2](pos_x_solid + w_solid/2.0,pos_y_solid+h_solid)[0]\n",
    "    dmidy = gfu.components[2](pos_x_solid + w_solid/2.0,pos_y_solid+h_solid)[1]\n",
    "    disp_x.append( dmidx )\n",
    "    disp_y.append( dmidy )\n",
    "    return\n",
    "\n",
    "t = 0\n",
    "CalcForces()\n",
    "\n",
    "sceneu = Draw(mesh.MaterialCF( {\"fluid\" :velocity}, default=None), mesh,\\\n",
    "              \"velocity\", deformation=deformation, order=3)\n",
    "scenep = Draw(pressure, mesh, \"pressure\", deformation=deformation)\n",
    "scened = Draw(deformation, mesh, \"deformation\")"
   ]
  },
  {
   "cell_type": "code",
   "execution_count": 7,
   "id": "bc429498",
   "metadata": {},
   "outputs": [
    {
     "name": "stdout",
     "output_type": "stream",
     "text": [
      "t= 0.740000000000000576"
     ]
    }
   ],
   "source": [
    "i = 0\n",
    "times = [0]\n",
    "vtk_velocity = VTKOutput(ma=mesh, coefs=[gfu.components[0]], names=[\"velocity\"], filename=\"results/fsi_new/velocity_solution\", subdivision=0)\n",
    "vtk_pressure = VTKOutput(ma=mesh, coefs=[gfu.components[1]], names=[\"pressure\"], filename=\"results/fsi_new/pressure_solution\", subdivision=0)\n",
    "vtk_deformation = VTKOutput(ma=mesh, coefs=[gfu.components[2]], names=[\"deformation\"], filename=\"results/fsi_new/deformation_solution\", subdivision=0)\n",
    "vtk_velocity.Do()\n",
    "vtk_pressure.Do()\n",
    "vtk_deformation.Do()\n",
    "\n",
    "# while t < SimulationParameters.t_end-SimulationParameters.dt/2.0:\n",
    "while t < 0.74:\n",
    "    t += SimulationParameters.dt\n",
    "    print (\"\\rt=\", t, end=\"\")\n",
    "    times.append(t)\n",
    "\n",
    "        \n",
    "    #Newton's method\n",
    "    for it in range(10):\n",
    "        a.Apply(gfu.vec, r.vec)\n",
    "        a.AssembleLinearization(gfu.vec)\n",
    "        inv = a.mat.Inverse(X.FreeDofs())\n",
    "                \n",
    "        w.data = inv*r.vec\n",
    "        \n",
    "        err = InnerProduct(w, r.vec)\n",
    "        #print(\"err^2 = \", err)\n",
    "                        \n",
    "        gfu.vec.data -= w\n",
    "                \n",
    "        if sqrt(abs(err)) < 1e-6: break\n",
    "           \n",
    "    if i %10 == 0:\n",
    "        sceneu.Redraw()\n",
    "        scened.Redraw()\n",
    "        scenep.Redraw()\n",
    "        vtk_velocity.Do()\n",
    "        vtk_pressure.Do()\n",
    "        vtk_deformation.Do()\n",
    "    CalcForces()\n",
    "    gfuold.vec.data = gfu.vec\n",
    "    \n",
    "    i += 1"
   ]
  },
  {
   "cell_type": "code",
   "execution_count": 8,
   "id": "439acee3",
   "metadata": {},
   "outputs": [
    {
     "data": {
      "image/png": "[encoded data removed]",
      "text/plain": [
       "<Figure size 640x480 with 1 Axes>"
      ]
     },
     "metadata": {},
     "output_type": "display_data"
    },
    {
     "data": {
      "image/png": "[encoded data removed]",
      "text/plain": [
       "<Figure size 640x480 with 1 Axes>"
      ]
     },
     "metadata": {},
     "output_type": "display_data"
    }
   ],
   "source": [
    "import matplotlib; import numpy as np; import matplotlib.pyplot as plt; \n",
    "%matplotlib inline  \n",
    "\n",
    "# times = times[:-1]\n",
    "plt.plot(times, disp_x)\n",
    "plt.xlabel('time'); plt.ylabel('disp_x'); plt.grid(True)\n",
    "plt.show()   \n",
    "\n",
    "plt.plot(times, disp_y)\n",
    "plt.xlabel('time'); plt.ylabel('disp_y'); plt.grid(True)\n",
    "plt.show()   "
   ]
  },
  {
   "cell_type": "code",
   "execution_count": null,
   "id": "9c42fa07",
   "metadata": {},
   "outputs": [],
   "source": []
  }
 ],
 "metadata": {
  "kernelspec": {
   "display_name": "fsi-cutfracture",
   "language": "python",
   "name": "python3"
  },
  "language_info": {
   "codemirror_mode": {
    "name": "ipython",
    "version": 3
   },
   "file_extension": ".py",
   "mimetype": "text/x-python",
   "name": "python",
   "nbconvert_exporter": "python",
   "pygments_lexer": "ipython3",
   "version": "3.9.21"
  }
 },
 "nbformat": 4,
 "nbformat_minor": 5
}
